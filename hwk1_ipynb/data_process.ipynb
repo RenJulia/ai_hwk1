{
 "cells": [
  {
   "cell_type": "markdown",
   "metadata": {},
   "source": [
    "# 🧠 Multiscale CNN for Financial Time-Series Classification\n",
    "This notebook covers data preprocessing, image tensor generation, and model training using a multi-scale CNN with SE attention and dual outputs."
   ]
  },
  {
   "cell_type": "code",
   "execution_count": 1,
   "metadata": {},
   "outputs": [
    {
     "name": "stderr",
     "output_type": "stream",
     "text": [
      "2025-05-22 20:34:18.041215: I tensorflow/core/util/port.cc:110] oneDNN custom operations are on. You may see slightly different numerical results due to floating-point round-off errors from different computation orders. To turn them off, set the environment variable `TF_ENABLE_ONEDNN_OPTS=0`.\n",
      "2025-05-22 20:34:18.084445: I tensorflow/core/platform/cpu_feature_guard.cc:182] This TensorFlow binary is optimized to use available CPU instructions in performance-critical operations.\n",
      "To enable the following instructions: AVX2 AVX512F AVX512_VNNI FMA, in other operations, rebuild TensorFlow with the appropriate compiler flags.\n",
      "2025-05-22 20:34:18.704619: W tensorflow/compiler/tf2tensorrt/utils/py_utils.cc:38] TF-TRT Warning: Could not find TensorRT\n"
     ]
    }
   ],
   "source": [
    "# 📦 1. Import Libraries\n",
    "import os\n",
    "import numpy as np\n",
    "import pandas as pd\n",
    "import zipfile\n",
    "from sklearn.model_selection import train_test_split\n",
    "from scipy.stats import zscore\n",
    "\n",
    "import tensorflow as tf\n",
    "from tensorflow.keras.models import Model\n",
    "from tensorflow.keras.layers import (\n",
    "    Input, Conv2D, Concatenate, GlobalAveragePooling2D, Dense,\n",
    "    Reshape, Multiply\n",
    ")\n",
    "from tensorflow.keras.callbacks import EarlyStopping"
   ]
  },
  {
   "cell_type": "code",
   "execution_count": 2,
   "metadata": {},
   "outputs": [],
   "source": [
    "# 📂 2. Data Loading & Preprocessing\n",
    "# def load_data(base_path, k):\n",
    "#     data_frames = []\n",
    "#     for i in range(k):\n",
    "#         file_path = os.path.join(base_path, f\"train_{i}.csv\")\n",
    "#         df = pd.read_csv(file_path)\n",
    "#         data_frames.append(df)\n",
    "#     return pd.concat(data_frames, ignore_index=True)\n",
    "def load_data_from_zip(zip_file_path, k):\n",
    "    data_frames = []\n",
    "    with zipfile.ZipFile(zip_file_path, 'r') as zf:\n",
    "        for i in range(k):\n",
    "            # Assuming files are named train_0.csv, train_1.csv, etc. within the zip\n",
    "            file_name_in_zip = f\"train_{i}.csv\"\n",
    "            try:\n",
    "                with zf.open(file_name_in_zip) as f:\n",
    "                    df = pd.read_csv(f)\n",
    "                    data_frames.append(df)\n",
    "            except KeyError:\n",
    "                print(f\"Warning: {file_name_in_zip} not found in zip file.\")\n",
    "                continue # Skip to the next file if not found\n",
    "\n",
    "    if not data_frames:\n",
    "        raise ValueError(\"No data files found in the zip archive.\")\n",
    "\n",
    "    return pd.concat(data_frames, ignore_index=True)\n",
    "\n",
    "def preprocess_data(df, target_col='responder_6'):\n",
    "    missing_ratio = df.isnull().mean()\n",
    "    df.drop(columns=missing_ratio[missing_ratio > 0.4].index, inplace=True)\n",
    "    df.fillna(df.median(numeric_only=True), inplace=True)\n",
    "    feature_cols = [col for col in df.columns if col.startswith('feature_')]\n",
    "    return df, feature_cols, target_col\n",
    "\n",
    "def mark_noise(features, window_size=20, step=10, std_multiplier=3):\n",
    "    n_samples, _ = features.shape\n",
    "    noise_flags = np.zeros(n_samples, dtype=bool)\n",
    "    for i in range(0, n_samples - window_size + 1, step):\n",
    "        window = features[i:i + window_size]\n",
    "        stds = np.std(window, axis=0)\n",
    "        if np.any(stds > std_multiplier * np.std(features, axis=0)):\n",
    "            noise_flags[i:i + window_size] = True\n",
    "    return noise_flags"
   ]
  },
  {
   "cell_type": "code",
   "execution_count": 3,
   "metadata": {},
   "outputs": [],
   "source": [
    "# 📈 3. Image Tensor Construction\n",
    "def create_image_data(df, feature_cols, target_col, window_size=60, step=30, img_size=(60, 60)):\n",
    "    features = df[feature_cols].apply(zscore).clip(-3, 3).values\n",
    "    targets = df[target_col].values\n",
    "    noise_labels = mark_noise(features, window_size, step)\n",
    "\n",
    "    X_images, y_target, y_noise = [], [], []\n",
    "    for i in range(0, len(df) - window_size + 1, step):\n",
    "        window_feat = features[i:i + window_size]\n",
    "        if window_feat.shape != img_size:\n",
    "            window_feat = np.resize(window_feat, img_size)\n",
    "        X_images.append(window_feat)\n",
    "        y_target.append(targets[i + window_size - 1])\n",
    "        y_noise.append(int(np.any(noise_labels[i:i + window_size])))\n",
    "\n",
    "    X_images = np.array(X_images)[..., np.newaxis]\n",
    "    return np.array(X_images), np.array(y_target), np.array(y_noise)"
   ]
  },
  {
   "cell_type": "code",
   "execution_count": 4,
   "metadata": {},
   "outputs": [],
   "source": [
    "# 🧠 4. Multiscale CNN Model with SE and Dual Outputs\n",
    "def build_multiscale_cnn(input_shape):\n",
    "    inputs = Input(shape=input_shape)\n",
    "    feature_small = Conv2D(32, (3, 3), activation='relu', padding='same')(inputs)\n",
    "    feature_large = Conv2D(32, (7, 7), activation='relu', padding='same')(inputs)\n",
    "    combined = Concatenate(axis=-1)([feature_small, feature_large])\n",
    "\n",
    "    se = GlobalAveragePooling2D()(combined)\n",
    "    se = Dense(32, activation='relu')(se)\n",
    "    se = Dense(64, activation='sigmoid')(se)\n",
    "    se = Reshape((1, 1, 64))(se)\n",
    "    weighted = Multiply()([combined, se])\n",
    "\n",
    "    refined = Conv2D(64, (3, 3), activation='relu', padding='same')(weighted)\n",
    "    pooled = GlobalAveragePooling2D()(refined)\n",
    "\n",
    "    out_target = Dense(1, activation='sigmoid', name='target_output')(pooled)\n",
    "    out_noise = Dense(1, activation='sigmoid', name='noise_output')(pooled)\n",
    "    return Model(inputs, outputs=[out_target, out_noise])"
   ]
  },
  {
   "cell_type": "code",
   "execution_count": 5,
   "metadata": {},
   "outputs": [
    {
     "ename": "NameError",
     "evalue": "name 'load_data' is not defined",
     "output_type": "error",
     "traceback": [
      "\u001b[0;31m---------------------------------------------------------------------------\u001b[0m",
      "\u001b[0;31mNameError\u001b[0m                                 Traceback (most recent call last)",
      "Cell \u001b[0;32mIn[5], line 3\u001b[0m\n\u001b[1;32m      1\u001b[0m \u001b[38;5;66;03m# 🚀 5. Main Training Pipeline\u001b[39;00m\n\u001b[1;32m      2\u001b[0m base_path \u001b[38;5;241m=\u001b[39m \u001b[38;5;124m\"\u001b[39m\u001b[38;5;124myour_dataset_path\u001b[39m\u001b[38;5;124m\"\u001b[39m  \u001b[38;5;66;03m# TODO: Replace with your actual path\u001b[39;00m\n\u001b[0;32m----> 3\u001b[0m df \u001b[38;5;241m=\u001b[39m \u001b[43mload_data\u001b[49m(base_path, k\u001b[38;5;241m=\u001b[39m\u001b[38;5;241m2\u001b[39m)\n\u001b[1;32m      4\u001b[0m df, feature_cols, target_col \u001b[38;5;241m=\u001b[39m preprocess_data(df)\n\u001b[1;32m      5\u001b[0m X, y_target, y_noise \u001b[38;5;241m=\u001b[39m create_image_data(df, feature_cols, target_col)\n",
      "\u001b[0;31mNameError\u001b[0m: name 'load_data' is not defined"
     ]
    }
   ],
   "source": [
    "# 🚀 5. Main Training Pipeline\n",
    "base_path = \"your_dataset_path\"  # TODO: Replace with your actual path\n",
    "df = load_data(base_path, k=2)\n",
    "df, feature_cols, target_col = preprocess_data(df)\n",
    "X, y_target, y_noise = create_image_data(df, feature_cols, target_col)\n",
    "\n",
    "X_train, X_test, y_train_t, y_test_t, y_train_n, y_test_n = train_test_split(\n",
    "    X, y_target, y_noise, test_size=0.2, random_state=42\n",
    ")\n",
    "\n",
    "model = build_multiscale_cnn(input_shape=(60, 60, 1))\n",
    "model.compile(\n",
    "    optimizer='adam',\n",
    "    loss={'target_output': 'binary_crossentropy', 'noise_output': 'binary_crossentropy'},\n",
    "    loss_weights={'target_output': 1.0, 'noise_output': 0.3},\n",
    "    metrics={'target_output': 'accuracy', 'noise_output': 'accuracy'}\n",
    ")\n",
    "model.summary()\n",
    "model.fit(\n",
    "    X_train, {'target_output': y_train_t, 'noise_output': y_train_n},\n",
    "    validation_data=(X_test, {'target_output': y_test_t, 'noise_output': y_test_n}),\n",
    "    epochs=10,\n",
    "    batch_size=64,\n",
    "    callbacks=[EarlyStopping(patience=3, restore_best_weights=True)],\n",
    "    verbose=1\n",
    ")"
   ]
  }
 ],
 "metadata": {
  "kernelspec": {
   "display_name": "tf2-gpu",
   "language": "python",
   "name": "python3"
  },
  "language_info": {
   "codemirror_mode": {
    "name": "ipython",
    "version": 3
   },
   "file_extension": ".py",
   "mimetype": "text/x-python",
   "name": "python",
   "nbconvert_exporter": "python",
   "pygments_lexer": "ipython3",
   "version": "3.9.21"
  }
 },
 "nbformat": 4,
 "nbformat_minor": 5
}
